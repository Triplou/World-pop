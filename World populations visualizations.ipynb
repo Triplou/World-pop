{
 "cells": [
  {
   "cell_type": "markdown",
   "id": "954c07f1",
   "metadata": {},
   "source": [
    "<h2 align='center' style='background :yellow' >This dataset about countries and their populations was collected by worldbank data bank and last updated in 2020<h2>"
   ]
  },
  {
   "cell_type": "code",
   "execution_count": 29,
   "id": "10f63ad9",
   "metadata": {},
   "outputs": [],
   "source": [
    "#importing the required libraries\n",
    "import matplotlib.pyplot as plt\n",
    "import pandas as pd\n",
    "import numpy as np"
   ]
  },
  {
   "cell_type": "code",
   "execution_count": 2,
   "id": "b5dffe96",
   "metadata": {},
   "outputs": [
    {
     "data": {
      "text/html": [
       "<div>\n",
       "<style scoped>\n",
       "    .dataframe tbody tr th:only-of-type {\n",
       "        vertical-align: middle;\n",
       "    }\n",
       "\n",
       "    .dataframe tbody tr th {\n",
       "        vertical-align: top;\n",
       "    }\n",
       "\n",
       "    .dataframe thead th {\n",
       "        text-align: right;\n",
       "    }\n",
       "</style>\n",
       "<table border=\"1\" class=\"dataframe\">\n",
       "  <thead>\n",
       "    <tr style=\"text-align: right;\">\n",
       "      <th></th>\n",
       "      <th>Series Name</th>\n",
       "      <th>Time</th>\n",
       "      <th>Country Name</th>\n",
       "      <th>Value</th>\n",
       "    </tr>\n",
       "  </thead>\n",
       "  <tbody>\n",
       "    <tr>\n",
       "      <th>0</th>\n",
       "      <td>Population, total</td>\n",
       "      <td>1960.0</td>\n",
       "      <td>Afghanistan</td>\n",
       "      <td>8996967.0</td>\n",
       "    </tr>\n",
       "    <tr>\n",
       "      <th>1</th>\n",
       "      <td>Population, total</td>\n",
       "      <td>1960.0</td>\n",
       "      <td>Albania</td>\n",
       "      <td>1608800.0</td>\n",
       "    </tr>\n",
       "    <tr>\n",
       "      <th>2</th>\n",
       "      <td>Population, total</td>\n",
       "      <td>1960.0</td>\n",
       "      <td>Algeria</td>\n",
       "      <td>11057864.0</td>\n",
       "    </tr>\n",
       "    <tr>\n",
       "      <th>3</th>\n",
       "      <td>Population, total</td>\n",
       "      <td>1960.0</td>\n",
       "      <td>American Samoa</td>\n",
       "      <td>20127.0</td>\n",
       "    </tr>\n",
       "    <tr>\n",
       "      <th>4</th>\n",
       "      <td>Population, total</td>\n",
       "      <td>1960.0</td>\n",
       "      <td>Andorra</td>\n",
       "      <td>13410.0</td>\n",
       "    </tr>\n",
       "  </tbody>\n",
       "</table>\n",
       "</div>"
      ],
      "text/plain": [
       "         Series Name    Time    Country Name       Value\n",
       "0  Population, total  1960.0     Afghanistan   8996967.0\n",
       "1  Population, total  1960.0         Albania   1608800.0\n",
       "2  Population, total  1960.0         Algeria  11057864.0\n",
       "3  Population, total  1960.0  American Samoa     20127.0\n",
       "4  Population, total  1960.0         Andorra     13410.0"
      ]
     },
     "execution_count": 2,
     "metadata": {},
     "output_type": "execute_result"
    }
   ],
   "source": [
    "#Reading Data\n",
    "data = pd.read_csv('I:\\\\FCDS\\\\Infographics and Visualizations\\\\Section 4\\\\final.csv')\n",
    "data.head()"
   ]
  },
  {
   "cell_type": "code",
   "execution_count": 3,
   "id": "a45262d4",
   "metadata": {},
   "outputs": [
    {
     "data": {
      "text/html": [
       "<div>\n",
       "<style scoped>\n",
       "    .dataframe tbody tr th:only-of-type {\n",
       "        vertical-align: middle;\n",
       "    }\n",
       "\n",
       "    .dataframe tbody tr th {\n",
       "        vertical-align: top;\n",
       "    }\n",
       "\n",
       "    .dataframe thead th {\n",
       "        text-align: right;\n",
       "    }\n",
       "</style>\n",
       "<table border=\"1\" class=\"dataframe\">\n",
       "  <thead>\n",
       "    <tr style=\"text-align: right;\">\n",
       "      <th></th>\n",
       "      <th>Series_Name</th>\n",
       "      <th>Time</th>\n",
       "      <th>Country_Name</th>\n",
       "      <th>Value</th>\n",
       "    </tr>\n",
       "  </thead>\n",
       "  <tbody>\n",
       "    <tr>\n",
       "      <th>0</th>\n",
       "      <td>Population, total</td>\n",
       "      <td>1960.0</td>\n",
       "      <td>Afghanistan</td>\n",
       "      <td>8996967.0</td>\n",
       "    </tr>\n",
       "    <tr>\n",
       "      <th>1</th>\n",
       "      <td>Population, total</td>\n",
       "      <td>1960.0</td>\n",
       "      <td>Albania</td>\n",
       "      <td>1608800.0</td>\n",
       "    </tr>\n",
       "    <tr>\n",
       "      <th>2</th>\n",
       "      <td>Population, total</td>\n",
       "      <td>1960.0</td>\n",
       "      <td>Algeria</td>\n",
       "      <td>11057864.0</td>\n",
       "    </tr>\n",
       "    <tr>\n",
       "      <th>3</th>\n",
       "      <td>Population, total</td>\n",
       "      <td>1960.0</td>\n",
       "      <td>American Samoa</td>\n",
       "      <td>20127.0</td>\n",
       "    </tr>\n",
       "    <tr>\n",
       "      <th>4</th>\n",
       "      <td>Population, total</td>\n",
       "      <td>1960.0</td>\n",
       "      <td>Andorra</td>\n",
       "      <td>13410.0</td>\n",
       "    </tr>\n",
       "  </tbody>\n",
       "</table>\n",
       "</div>"
      ],
      "text/plain": [
       "         Series_Name    Time    Country_Name       Value\n",
       "0  Population, total  1960.0     Afghanistan   8996967.0\n",
       "1  Population, total  1960.0         Albania   1608800.0\n",
       "2  Population, total  1960.0         Algeria  11057864.0\n",
       "3  Population, total  1960.0  American Samoa     20127.0\n",
       "4  Population, total  1960.0         Andorra     13410.0"
      ]
     },
     "execution_count": 3,
     "metadata": {},
     "output_type": "execute_result"
    }
   ],
   "source": [
    "#Replacing spaces in attribute names with underscores\n",
    "data.columns = data.columns.str.replace(' ', '_')\n",
    "data.head()"
   ]
  },
  {
   "cell_type": "code",
   "execution_count": 4,
   "id": "0ecfbed5",
   "metadata": {
    "scrolled": true
   },
   "outputs": [
    {
     "data": {
      "text/html": [
       "<div>\n",
       "<style scoped>\n",
       "    .dataframe tbody tr th:only-of-type {\n",
       "        vertical-align: middle;\n",
       "    }\n",
       "\n",
       "    .dataframe tbody tr th {\n",
       "        vertical-align: top;\n",
       "    }\n",
       "\n",
       "    .dataframe thead th {\n",
       "        text-align: right;\n",
       "    }\n",
       "</style>\n",
       "<table border=\"1\" class=\"dataframe\">\n",
       "  <thead>\n",
       "    <tr style=\"text-align: right;\">\n",
       "      <th></th>\n",
       "      <th>gender</th>\n",
       "      <th>year</th>\n",
       "      <th>country</th>\n",
       "      <th>population</th>\n",
       "    </tr>\n",
       "  </thead>\n",
       "  <tbody>\n",
       "    <tr>\n",
       "      <th>0</th>\n",
       "      <td>Population, total</td>\n",
       "      <td>1960.0</td>\n",
       "      <td>Afghanistan</td>\n",
       "      <td>8.996967</td>\n",
       "    </tr>\n",
       "    <tr>\n",
       "      <th>1</th>\n",
       "      <td>Population, total</td>\n",
       "      <td>1960.0</td>\n",
       "      <td>Albania</td>\n",
       "      <td>1.608800</td>\n",
       "    </tr>\n",
       "    <tr>\n",
       "      <th>2</th>\n",
       "      <td>Population, total</td>\n",
       "      <td>1960.0</td>\n",
       "      <td>Algeria</td>\n",
       "      <td>11.057864</td>\n",
       "    </tr>\n",
       "    <tr>\n",
       "      <th>3</th>\n",
       "      <td>Population, total</td>\n",
       "      <td>1960.0</td>\n",
       "      <td>American Samoa</td>\n",
       "      <td>0.020127</td>\n",
       "    </tr>\n",
       "    <tr>\n",
       "      <th>4</th>\n",
       "      <td>Population, total</td>\n",
       "      <td>1960.0</td>\n",
       "      <td>Andorra</td>\n",
       "      <td>0.013410</td>\n",
       "    </tr>\n",
       "  </tbody>\n",
       "</table>\n",
       "</div>"
      ],
      "text/plain": [
       "              gender    year         country  population\n",
       "0  Population, total  1960.0     Afghanistan    8.996967\n",
       "1  Population, total  1960.0         Albania    1.608800\n",
       "2  Population, total  1960.0         Algeria   11.057864\n",
       "3  Population, total  1960.0  American Samoa    0.020127\n",
       "4  Population, total  1960.0         Andorra    0.013410"
      ]
     },
     "execution_count": 4,
     "metadata": {},
     "output_type": "execute_result"
    }
   ],
   "source": [
    "#Renaming Columns\n",
    "data_cols=['gender','year','country','population']\n",
    "data.columns=data_cols\n",
    "#Dropping Null values\n",
    "data=data.dropna()\n",
    "#showing the population number in millions\n",
    "data.population=data.population/(10**6)\n",
    "data.head()"
   ]
  },
  {
   "cell_type": "markdown",
   "id": "601330f4",
   "metadata": {},
   "source": [
    "<h1 align=\"center\" style='color:Blue' **Bold** >Bar Chart<h1>\n",
    "    <hr><hr>\n",
    "<h3> The bars of a bar chart are used to demonstrate comparisons between data categories.\n",
    "These bars can be arranged vertically or horizontally.\n",
    "Two axes are always included in a bar graph.\n",
    "The numerical numbers will be on one axis, while the sorts of categories being compared will be on the other. <h3>"
   ]
  },
  {
   "cell_type": "markdown",
   "id": "a931cfdf",
   "metadata": {},
   "source": [
    "### A bar chart is used to display a distribution of data points or to compare metric values across different subgroups of your data.\n",
    "<h2 align=\"centered\"style='color:Red'> Here we are using bar chart to display the most 5 populated countries in the world <h2>"
   ]
  },
  {
   "cell_type": "code",
   "execution_count": 17,
   "id": "45864d79",
   "metadata": {},
   "outputs": [
    {
     "data": {
      "image/png": "[encoded data removed]",
      "text/plain": [
       "<Figure size 432x288 with 1 Axes>"
      ]
     },
     "metadata": {
      "needs_background": "light"
     },
     "output_type": "display_data"
    }
   ],
   "source": [
    "#Filtering data by year 2020 only and population=total\n",
    "top=data[(data.year==2020)&(data.gender=='Population, total')]\n",
    "#Then Sorting the countries by population descendingly\n",
    "top=top.sort_values(by=['population','country'],ascending=False)\n",
    "#plotting the bar graph\n",
    "pop = top['population']\n",
    "co = top['country']\n",
    "plt.title('Top 5 Populated Countries in the world')\n",
    "plt.xlabel('Country')\n",
    "plt.ylabel('Population by Million')\n",
    "plt.rcParams.update({'text.color': \"green\",'axes.labelcolor': \"red\"})\n",
    "plt.bar(co[0:5], pop[0:5])\n",
    "plt.show()"
   ]
  },
  {
   "cell_type": "code",
   "execution_count": 19,
   "id": "00b96e4a",
   "metadata": {},
   "outputs": [
    {
     "data": {
      "text/html": [
       "<div>\n",
       "<style scoped>\n",
       "    .dataframe tbody tr th:only-of-type {\n",
       "        vertical-align: middle;\n",
       "    }\n",
       "\n",
       "    .dataframe tbody tr th {\n",
       "        vertical-align: top;\n",
       "    }\n",
       "\n",
       "    .dataframe thead th {\n",
       "        text-align: right;\n",
       "    }\n",
       "</style>\n",
       "<table border=\"1\" class=\"dataframe\">\n",
       "  <thead>\n",
       "    <tr style=\"text-align: right;\">\n",
       "      <th></th>\n",
       "      <th>gender</th>\n",
       "      <th>year</th>\n",
       "      <th>population</th>\n",
       "    </tr>\n",
       "    <tr>\n",
       "      <th>country</th>\n",
       "      <th></th>\n",
       "      <th></th>\n",
       "      <th></th>\n",
       "    </tr>\n",
       "  </thead>\n",
       "  <tbody>\n",
       "    <tr>\n",
       "      <th>Egypt, Arab Rep.</th>\n",
       "      <td>Population, total</td>\n",
       "      <td>1960.0</td>\n",
       "      <td>26.632891</td>\n",
       "    </tr>\n",
       "    <tr>\n",
       "      <th>Egypt, Arab Rep.</th>\n",
       "      <td>Population, total</td>\n",
       "      <td>1961.0</td>\n",
       "      <td>27.366239</td>\n",
       "    </tr>\n",
       "    <tr>\n",
       "      <th>Egypt, Arab Rep.</th>\n",
       "      <td>Population, total</td>\n",
       "      <td>1962.0</td>\n",
       "      <td>28.112258</td>\n",
       "    </tr>\n",
       "    <tr>\n",
       "      <th>Egypt, Arab Rep.</th>\n",
       "      <td>Population, total</td>\n",
       "      <td>1963.0</td>\n",
       "      <td>28.871383</td>\n",
       "    </tr>\n",
       "    <tr>\n",
       "      <th>Egypt, Arab Rep.</th>\n",
       "      <td>Population, total</td>\n",
       "      <td>1964.0</td>\n",
       "      <td>29.644875</td>\n",
       "    </tr>\n",
       "    <tr>\n",
       "      <th>...</th>\n",
       "      <td>...</td>\n",
       "      <td>...</td>\n",
       "      <td>...</td>\n",
       "    </tr>\n",
       "    <tr>\n",
       "      <th>Egypt, Arab Rep.</th>\n",
       "      <td>Population, total</td>\n",
       "      <td>2016.0</td>\n",
       "      <td>94.447071</td>\n",
       "    </tr>\n",
       "    <tr>\n",
       "      <th>Egypt, Arab Rep.</th>\n",
       "      <td>Population, total</td>\n",
       "      <td>2017.0</td>\n",
       "      <td>96.442590</td>\n",
       "    </tr>\n",
       "    <tr>\n",
       "      <th>Egypt, Arab Rep.</th>\n",
       "      <td>Population, total</td>\n",
       "      <td>2018.0</td>\n",
       "      <td>98.423602</td>\n",
       "    </tr>\n",
       "    <tr>\n",
       "      <th>Egypt, Arab Rep.</th>\n",
       "      <td>Population, total</td>\n",
       "      <td>2019.0</td>\n",
       "      <td>100.388076</td>\n",
       "    </tr>\n",
       "    <tr>\n",
       "      <th>Egypt, Arab Rep.</th>\n",
       "      <td>Population, total</td>\n",
       "      <td>2020.0</td>\n",
       "      <td>102.334403</td>\n",
       "    </tr>\n",
       "  </tbody>\n",
       "</table>\n",
       "<p>61 rows × 3 columns</p>\n",
       "</div>"
      ],
      "text/plain": [
       "                             gender    year  population\n",
       "country                                                \n",
       "Egypt, Arab Rep.  Population, total  1960.0   26.632891\n",
       "Egypt, Arab Rep.  Population, total  1961.0   27.366239\n",
       "Egypt, Arab Rep.  Population, total  1962.0   28.112258\n",
       "Egypt, Arab Rep.  Population, total  1963.0   28.871383\n",
       "Egypt, Arab Rep.  Population, total  1964.0   29.644875\n",
       "...                             ...     ...         ...\n",
       "Egypt, Arab Rep.  Population, total  2016.0   94.447071\n",
       "Egypt, Arab Rep.  Population, total  2017.0   96.442590\n",
       "Egypt, Arab Rep.  Population, total  2018.0   98.423602\n",
       "Egypt, Arab Rep.  Population, total  2019.0  100.388076\n",
       "Egypt, Arab Rep.  Population, total  2020.0  102.334403\n",
       "\n",
       "[61 rows x 3 columns]"
      ]
     },
     "execution_count": 19,
     "metadata": {},
     "output_type": "execute_result"
    }
   ],
   "source": [
    "#Showing only data for Egypt by total population\n",
    "eg = data[(data.country=='Egypt, Arab Rep.')&(data.gender==\"Population, total\")]\n",
    "eg.set_index('country')"
   ]
  },
  {
   "cell_type": "markdown",
   "id": "959d6ed0",
   "metadata": {},
   "source": [
    "<h1 align=\"center\" style='color:Blue' **Bold** >Line Graph<h1>\n",
    "    <hr><hr>\n",
    "    <h4>Line graphs are used to chart changes over short and long time periods. When there are little changes, line graphs are preferable to bar graphs. Line graphs may also be used to compare changes in more than one group during the same time period. <h4>"
   ]
  },
  {
   "cell_type": "markdown",
   "id": "4f9ae96f",
   "metadata": {},
   "source": [
    "## Here we are using line graph to show the increase of population in Egypt over time"
   ]
  },
  {
   "cell_type": "code",
   "execution_count": 26,
   "id": "ed89b4de",
   "metadata": {
    "scrolled": true
   },
   "outputs": [
    {
     "data": {
      "image/png": "[encoded data removed]",
      "text/plain": [
       "<Figure size 432x288 with 1 Axes>"
      ]
     },
     "metadata": {
      "needs_background": "light"
     },
     "output_type": "display_data"
    }
   ],
   "source": [
    "plt.plot(eg.year,eg.population)\n",
    "plt.title('Population in Egypt over the years')\n",
    "plt.xlabel('Year')\n",
    "plt.ylabel('Population by Million')\n",
    "plt.rcParams.update({'text.color': \"red\",'axes.labelcolor': \"green\"})"
   ]
  },
  {
   "cell_type": "markdown",
   "id": "7321616d",
   "metadata": {},
   "source": [
    "## Here we are comparing Egypt to China in terms of Population increase over the years"
   ]
  },
  {
   "cell_type": "code",
   "execution_count": 27,
   "id": "557580b0",
   "metadata": {},
   "outputs": [
    {
     "data": {
      "image/png": "[encoded data removed]",
      "text/plain": [
       "<Figure size 432x288 with 1 Axes>"
      ]
     },
     "metadata": {
      "needs_background": "light"
     },
     "output_type": "display_data"
    }
   ],
   "source": [
    "eg = data[(data.country=='Egypt, Arab Rep.')&(data.gender==\"Population, total\")]\n",
    "ch = data[(data.country=='China')&(data.gender==\"Population, total\")]\n",
    "plt.plot(eg.year,eg.population) \n",
    "plt.plot(ch.year,ch.population)\n",
    "plt.legend(['Egypt','China'])\n",
    "plt.xlabel('year')\n",
    "plt.ylabel('population')\n",
    "plt.show()"
   ]
  },
  {
   "cell_type": "code",
   "execution_count": 28,
   "id": "843a1f66",
   "metadata": {},
   "outputs": [
    {
     "data": {
      "text/html": [
       "<div>\n",
       "<style scoped>\n",
       "    .dataframe tbody tr th:only-of-type {\n",
       "        vertical-align: middle;\n",
       "    }\n",
       "\n",
       "    .dataframe tbody tr th {\n",
       "        vertical-align: top;\n",
       "    }\n",
       "\n",
       "    .dataframe thead th {\n",
       "        text-align: right;\n",
       "    }\n",
       "</style>\n",
       "<table border=\"1\" class=\"dataframe\">\n",
       "  <thead>\n",
       "    <tr style=\"text-align: right;\">\n",
       "      <th></th>\n",
       "      <th>gender</th>\n",
       "      <th>year</th>\n",
       "      <th>population</th>\n",
       "    </tr>\n",
       "    <tr>\n",
       "      <th>country</th>\n",
       "      <th></th>\n",
       "      <th></th>\n",
       "      <th></th>\n",
       "    </tr>\n",
       "  </thead>\n",
       "  <tbody>\n",
       "    <tr>\n",
       "      <th>Egypt, Arab Rep.</th>\n",
       "      <td>Population, male</td>\n",
       "      <td>2020.0</td>\n",
       "      <td>51.702862</td>\n",
       "    </tr>\n",
       "    <tr>\n",
       "      <th>Egypt, Arab Rep.</th>\n",
       "      <td>Population, female</td>\n",
       "      <td>2020.0</td>\n",
       "      <td>50.631541</td>\n",
       "    </tr>\n",
       "  </tbody>\n",
       "</table>\n",
       "</div>"
      ],
      "text/plain": [
       "                              gender    year  population\n",
       "country                                                 \n",
       "Egypt, Arab Rep.    Population, male  2020.0   51.702862\n",
       "Egypt, Arab Rep.  Population, female  2020.0   50.631541"
      ]
     },
     "execution_count": 28,
     "metadata": {},
     "output_type": "execute_result"
    }
   ],
   "source": [
    "#Choosing the data which contains only the population of males and females in Egypt\n",
    "eg2 = data[(data.country=='Egypt, Arab Rep.')&(data.year==2020)]\n",
    "eg2=eg2.iloc[1:3]\n",
    "eg2.set_index('country')"
   ]
  },
  {
   "cell_type": "markdown",
   "id": "31bc8101",
   "metadata": {},
   "source": [
    "<h1 align=\"center\" style='color:Blue' **Bold** >Pie Chart<h1>\n",
    "    <hr><hr>\n",
    "    <h3> When comparing components of a whole, pie charts are the ideal choice. They don't illustrate how they've changed over time<h3>"
   ]
  },
  {
   "cell_type": "markdown",
   "id": "a7d981a8",
   "metadata": {},
   "source": [
    "# Here we are making a pie chart to show the distribtution of males and females in Egypt as of 2020"
   ]
  },
  {
   "cell_type": "code",
   "execution_count": 67,
   "id": "7050077f",
   "metadata": {},
   "outputs": [
    {
     "data": {
      "image/png": "[encoded data removed]",
      "text/plain": [
       "<Figure size 432x288 with 1 Axes>"
      ]
     },
     "metadata": {},
     "output_type": "display_data"
    }
   ],
   "source": [
    "explode = [0.05, 0.05]\n",
    "plt.pie(eg2.population, labels=['Population of males in Egypt','Population of females in Egypt'],explode=explode,autopct='%1.1f%%', shadow=True, startangle=90)\n",
    "plt.title('Population in Egypt by Gender')\n",
    "plt.show()"
   ]
  },
  {
   "cell_type": "code",
   "execution_count": null,
   "id": "dae501b7",
   "metadata": {},
   "outputs": [],
   "source": []
  },
  {
   "cell_type": "code",
   "execution_count": null,
   "id": "929415eb",
   "metadata": {},
   "outputs": [],
   "source": []
  }
 ],
 "metadata": {
  "kernelspec": {
   "display_name": "Python 3 (ipykernel)",
   "language": "python",
   "name": "python3"
  },
  "language_info": {
   "codemirror_mode": {
    "name": "ipython",
    "version": 3
   },
   "file_extension": ".py",
   "mimetype": "text/x-python",
   "name": "python",
   "nbconvert_exporter": "python",
   "pygments_lexer": "ipython3",
   "version": "3.9.7"
  }
 },
 "nbformat": 4,
 "nbformat_minor": 5
}
